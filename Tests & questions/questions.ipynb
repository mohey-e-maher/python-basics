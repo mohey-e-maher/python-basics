{
 "cells": [
  {
   "cell_type": "code",
   "execution_count": null,
   "metadata": {},
   "outputs": [],
   "source": []
  },
  {
   "cell_type": "markdown",
   "metadata": {},
   "source": [
    "# Question 1\n",
    "\n",
    "Project: Phone Directory Creation\n",
    "\n",
    "By the end of this project, the student will be able to:\n",
    "\n",
    "Understand the functioning of functions.\n",
    "Deal with dictionaries.\n",
    "Utilize loops with dictionaries.\n",
    "Understand how loops work with if statements.\n",
    "Requirements:\n",
    "Build a program that represents a phone directory. It should receive a phone number and return the name of the person associated with that number. You can refer to the following table:\n",
    "\n",
    "| Name | Number |\n",
    "\n",
    "| Amal | 1111111111 |\n",
    "\n",
    "| Mohammed | 2222222222 | \n",
    "\n",
    "| Khadijah | 3333333333 |\n",
    "\n",
    "| Abdullah | 4444444444 |\n",
    "\n",
    "| Rawan | 5555555555 | \n",
    "\n",
    "| Faisal | 6666666666 |\n",
    "\n",
    "| Layla | 7777777777 |\n",
    "\n",
    "If a number that exists in the directory is entered, it should print the name of the corresponding person. If an invalid number is entered, it should print the message:\n",
    "\n",
    "\"Sorry, the number is not found.\"\n",
    "\n",
    "If the phone number is less than or more than 10 digits, or if it contains characters and symbols, the message should be:\n",
    "\n",
    "\"This is an invalid number.\""
   ]
  },
  {
   "cell_type": "markdown",
   "metadata": {},
   "source": []
  }
 ],
 "metadata": {
  "kernelspec": {
   "display_name": "Python 3 (ipykernel)",
   "language": "python",
   "name": "python3"
  },
  "language_info": {
   "codemirror_mode": {
    "name": "ipython",
    "version": 3
   },
   "file_extension": ".py",
   "mimetype": "text/x-python",
   "name": "python",
   "nbconvert_exporter": "python",
   "pygments_lexer": "ipython3",
   "version": "3.11.4"
  }
 },
 "nbformat": 4,
 "nbformat_minor": 2
}
